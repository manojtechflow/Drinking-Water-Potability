{
 "cells": [
  {
   "cell_type": "code",
   "execution_count": 12,
   "metadata": {},
   "outputs": [],
   "source": [
    "import pandas as pd\n",
    "\n",
    "\n",
    "from sklearn.preprocessing import StandardScaler\n",
    "from sklearn.compose import ColumnTransformer\n",
    "from sklearn.model_selection import train_test_split, cross_val_score, GridSearchCV\n",
    "\n",
    "from sklearn.ensemble import AdaBoostClassifier, BaggingClassifier, GradientBoostingClassifier\n",
    "from sklearn.tree import DecisionTreeClassifier, ExtraTreeClassifier\n",
    "from sklearn.neighbors import KNeighborsClassifier"
   ]
  },
  {
   "cell_type": "code",
   "execution_count": 13,
   "metadata": {},
   "outputs": [],
   "source": [
    "data = pd.read_csv('../artifacts/water_potability.csv')"
   ]
  },
  {
   "cell_type": "code",
   "execution_count": 14,
   "metadata": {},
   "outputs": [
    {
     "data": {
      "text/html": [
       "<div>\n",
       "<style scoped>\n",
       "    .dataframe tbody tr th:only-of-type {\n",
       "        vertical-align: middle;\n",
       "    }\n",
       "\n",
       "    .dataframe tbody tr th {\n",
       "        vertical-align: top;\n",
       "    }\n",
       "\n",
       "    .dataframe thead th {\n",
       "        text-align: right;\n",
       "    }\n",
       "</style>\n",
       "<table border=\"1\" class=\"dataframe\">\n",
       "  <thead>\n",
       "    <tr style=\"text-align: right;\">\n",
       "      <th></th>\n",
       "      <th>ph</th>\n",
       "      <th>Hardness</th>\n",
       "      <th>Solids</th>\n",
       "      <th>Chloramines</th>\n",
       "      <th>Sulfate</th>\n",
       "      <th>Conductivity</th>\n",
       "      <th>Organic_carbon</th>\n",
       "      <th>Trihalomethanes</th>\n",
       "      <th>Turbidity</th>\n",
       "      <th>Potability</th>\n",
       "    </tr>\n",
       "  </thead>\n",
       "  <tbody>\n",
       "    <tr>\n",
       "      <th>0</th>\n",
       "      <td>7.036752</td>\n",
       "      <td>204.890455</td>\n",
       "      <td>20791.318981</td>\n",
       "      <td>7.300212</td>\n",
       "      <td>368.516441</td>\n",
       "      <td>564.308654</td>\n",
       "      <td>10.379783</td>\n",
       "      <td>86.990970</td>\n",
       "      <td>2.963135</td>\n",
       "      <td>0</td>\n",
       "    </tr>\n",
       "    <tr>\n",
       "      <th>1</th>\n",
       "      <td>3.716080</td>\n",
       "      <td>129.422921</td>\n",
       "      <td>18630.057858</td>\n",
       "      <td>6.635246</td>\n",
       "      <td>333.073546</td>\n",
       "      <td>592.885359</td>\n",
       "      <td>15.180013</td>\n",
       "      <td>56.329076</td>\n",
       "      <td>4.500656</td>\n",
       "      <td>0</td>\n",
       "    </tr>\n",
       "    <tr>\n",
       "      <th>2</th>\n",
       "      <td>8.099124</td>\n",
       "      <td>224.236259</td>\n",
       "      <td>19909.541732</td>\n",
       "      <td>9.275884</td>\n",
       "      <td>333.073546</td>\n",
       "      <td>418.606213</td>\n",
       "      <td>16.868637</td>\n",
       "      <td>66.420093</td>\n",
       "      <td>3.055934</td>\n",
       "      <td>0</td>\n",
       "    </tr>\n",
       "    <tr>\n",
       "      <th>3</th>\n",
       "      <td>8.316766</td>\n",
       "      <td>214.373394</td>\n",
       "      <td>22018.417441</td>\n",
       "      <td>8.059332</td>\n",
       "      <td>356.886136</td>\n",
       "      <td>363.266516</td>\n",
       "      <td>18.436524</td>\n",
       "      <td>100.341674</td>\n",
       "      <td>4.628771</td>\n",
       "      <td>0</td>\n",
       "    </tr>\n",
       "    <tr>\n",
       "      <th>4</th>\n",
       "      <td>9.092223</td>\n",
       "      <td>181.101509</td>\n",
       "      <td>17978.986339</td>\n",
       "      <td>6.546600</td>\n",
       "      <td>310.135738</td>\n",
       "      <td>398.410813</td>\n",
       "      <td>11.558279</td>\n",
       "      <td>31.997993</td>\n",
       "      <td>4.075075</td>\n",
       "      <td>0</td>\n",
       "    </tr>\n",
       "  </tbody>\n",
       "</table>\n",
       "</div>"
      ],
      "text/plain": [
       "         ph    Hardness        Solids  Chloramines     Sulfate  Conductivity  \\\n",
       "0  7.036752  204.890455  20791.318981     7.300212  368.516441    564.308654   \n",
       "1  3.716080  129.422921  18630.057858     6.635246  333.073546    592.885359   \n",
       "2  8.099124  224.236259  19909.541732     9.275884  333.073546    418.606213   \n",
       "3  8.316766  214.373394  22018.417441     8.059332  356.886136    363.266516   \n",
       "4  9.092223  181.101509  17978.986339     6.546600  310.135738    398.410813   \n",
       "\n",
       "   Organic_carbon  Trihalomethanes  Turbidity  Potability  \n",
       "0       10.379783        86.990970   2.963135           0  \n",
       "1       15.180013        56.329076   4.500656           0  \n",
       "2       16.868637        66.420093   3.055934           0  \n",
       "3       18.436524       100.341674   4.628771           0  \n",
       "4       11.558279        31.997993   4.075075           0  "
      ]
     },
     "execution_count": 14,
     "metadata": {},
     "output_type": "execute_result"
    }
   ],
   "source": [
    "data.head()"
   ]
  },
  {
   "cell_type": "markdown",
   "metadata": {},
   "source": [
    "## Normalization\n",
    "\n",
    "Use Potability as target.\n",
    "\n",
    "Using MinMaxScaler() to map values in range [0, 1] (Normalization)"
   ]
  },
  {
   "cell_type": "code",
   "execution_count": 15,
   "metadata": {},
   "outputs": [],
   "source": [
    "# Define X, y\n",
    "X = data.drop(columns='Potability')\n",
    "y = data.Potability"
   ]
  },
  {
   "cell_type": "code",
   "execution_count": 16,
   "metadata": {},
   "outputs": [],
   "source": [
    "#handling imbalance in data and Scaling\n",
    "from imblearn.over_sampling import SMOTE\n",
    "samp = SMOTE()"
   ]
  },
  {
   "cell_type": "code",
   "execution_count": 17,
   "metadata": {},
   "outputs": [],
   "source": [
    "scaler = StandardScaler()\n",
    "\n",
    "preprocessor = ColumnTransformer(\n",
    "    [\n",
    "        (\"StandardScaler\", scaler, X.columns)\n",
    "    ]\n",
    ")"
   ]
  },
  {
   "cell_type": "code",
   "execution_count": 18,
   "metadata": {},
   "outputs": [],
   "source": [
    "X_train, X_test, y_train, y_test = train_test_split(X,y,test_size=0.2,random_state=42)\n",
    "\n",
    "X_train, y_train =samp.fit_resample(X_train,y_train)\n",
    "\n",
    "X_train = preprocessor.fit_transform(X_train)\n",
    "X_test = preprocessor.fit_transform(X_test)"
   ]
  },
  {
   "cell_type": "code",
   "execution_count": 19,
   "metadata": {},
   "outputs": [
    {
     "data": {
      "text/html": [
       "<style type=\"text/css\">\n",
       "#T_bfa92_row0_col1 {\n",
       "  background-color: #fff7fb;\n",
       "  color: #000000;\n",
       "}\n",
       "#T_bfa92_row1_col1 {\n",
       "  background-color: #a4bcda;\n",
       "  color: #000000;\n",
       "}\n",
       "#T_bfa92_row2_col1 {\n",
       "  background-color: #4e9ac6;\n",
       "  color: #f1f1f1;\n",
       "}\n",
       "#T_bfa92_row3_col1 {\n",
       "  background-color: #3b92c1;\n",
       "  color: #f1f1f1;\n",
       "}\n",
       "#T_bfa92_row4_col1 {\n",
       "  background-color: #045585;\n",
       "  color: #f1f1f1;\n",
       "}\n",
       "#T_bfa92_row5_col1 {\n",
       "  background-color: #023858;\n",
       "  color: #f1f1f1;\n",
       "}\n",
       "</style>\n",
       "<table id=\"T_bfa92\">\n",
       "  <thead>\n",
       "    <tr>\n",
       "      <th class=\"blank level0\" >&nbsp;</th>\n",
       "      <th id=\"T_bfa92_level0_col0\" class=\"col_heading level0 col0\" >model</th>\n",
       "      <th id=\"T_bfa92_level0_col1\" class=\"col_heading level0 col1\" >cv_score</th>\n",
       "    </tr>\n",
       "  </thead>\n",
       "  <tbody>\n",
       "    <tr>\n",
       "      <th id=\"T_bfa92_level0_row0\" class=\"row_heading level0 row0\" >0</th>\n",
       "      <td id=\"T_bfa92_row0_col0\" class=\"data row0 col0\" >AdaBoostClassifier()</td>\n",
       "      <td id=\"T_bfa92_row0_col1\" class=\"data row0 col1\" >0.543194</td>\n",
       "    </tr>\n",
       "    <tr>\n",
       "      <th id=\"T_bfa92_level0_row1\" class=\"row_heading level0 row1\" >4</th>\n",
       "      <td id=\"T_bfa92_row1_col0\" class=\"data row1 col0\" >ExtraTreeClassifier()</td>\n",
       "      <td id=\"T_bfa92_row1_col1\" class=\"data row1 col1\" >0.587335</td>\n",
       "    </tr>\n",
       "    <tr>\n",
       "      <th id=\"T_bfa92_level0_row2\" class=\"row_heading level0 row2\" >3</th>\n",
       "      <td id=\"T_bfa92_row2_col0\" class=\"data row2 col0\" >DecisionTreeClassifier()</td>\n",
       "      <td id=\"T_bfa92_row2_col1\" class=\"data row2 col1\" >0.610048</td>\n",
       "    </tr>\n",
       "    <tr>\n",
       "      <th id=\"T_bfa92_level0_row3\" class=\"row_heading level0 row3\" >2</th>\n",
       "      <td id=\"T_bfa92_row3_col0\" class=\"data row3 col0\" >GradientBoostingClassifier()</td>\n",
       "      <td id=\"T_bfa92_row3_col1\" class=\"data row3 col1\" >0.614448</td>\n",
       "    </tr>\n",
       "    <tr>\n",
       "      <th id=\"T_bfa92_level0_row4\" class=\"row_heading level0 row4\" >5</th>\n",
       "      <td id=\"T_bfa92_row4_col0\" class=\"data row4 col0\" >KNeighborsClassifier()</td>\n",
       "      <td id=\"T_bfa92_row4_col1\" class=\"data row4 col1\" >0.646604</td>\n",
       "    </tr>\n",
       "    <tr>\n",
       "      <th id=\"T_bfa92_level0_row5\" class=\"row_heading level0 row5\" >1</th>\n",
       "      <td id=\"T_bfa92_row5_col0\" class=\"data row5 col0\" >BaggingClassifier()</td>\n",
       "      <td id=\"T_bfa92_row5_col1\" class=\"data row5 col1\" >0.659228</td>\n",
       "    </tr>\n",
       "  </tbody>\n",
       "</table>\n"
      ],
      "text/plain": [
       "<pandas.io.formats.style.Styler at 0x188c8c4e1c0>"
      ]
     },
     "execution_count": 19,
     "metadata": {},
     "output_type": "execute_result"
    }
   ],
   "source": [
    "\n",
    "mod = []\n",
    "cv_score=[]\n",
    "model =[AdaBoostClassifier(), BaggingClassifier(), GradientBoostingClassifier(), DecisionTreeClassifier(), ExtraTreeClassifier(), KNeighborsClassifier()]\n",
    "for m in model:\n",
    "    cv_score.append(cross_val_score(m, X_train, y_train, scoring='accuracy', cv=5).mean())\n",
    "    mod.append(m)\n",
    "model_df=pd.DataFrame(columns=['model','cv_score'])\n",
    "model_df['model']=mod\n",
    "model_df['cv_score']=cv_score\n",
    "model_df.sort_values(by=['cv_score'], ascending=True).style.background_gradient(subset=['cv_score'])"
   ]
  },
  {
   "cell_type": "markdown",
   "metadata": {},
   "source": [
    "From the above basic modeling techinique, average cv score for GradientBoosting & BaggingClassifier is high compared to other models. so, let us try to do hyper tunning for these model to improve the accuracy"
   ]
  },
  {
   "cell_type": "code",
   "execution_count": 21,
   "metadata": {},
   "outputs": [
    {
     "name": "stdout",
     "output_type": "stream",
     "text": [
      "Best Estimator: {'metric': 'euclidean', 'n_neighbors': 5} , Best Score : 0.6466042375617873\n",
      "Best Estimator: {'n_estimators': 300} , Best Score : 0.699579721304553\n"
     ]
    }
   ],
   "source": [
    "param={\n",
    "    'n_neighbors': [3, 5, 7, 9],\n",
    "    'metric': ['euclidean', 'manhattan', 'minkowski']\n",
    "}\n",
    "grid_Grd=GridSearchCV(KNeighborsClassifier(), param_grid=param, cv=5, scoring='accuracy')\n",
    "grid_Grd.fit(X_train, y_train)\n",
    "print(f\"Best Estimator: {grid_Grd.best_params_} , Best Score : {grid_Grd.best_score_}\")\n",
    "\n",
    "\n",
    "param={'n_estimators': [300,400,500]}\n",
    "grid_Bag=GridSearchCV(BaggingClassifier(), param_grid=param, cv=5, scoring='accuracy')\n",
    "grid_Bag.fit(X_train, y_train)\n",
    "print(f\"Best Estimator: {grid_Bag.best_params_} , Best Score : {grid_Bag.best_score_}\")"
   ]
  },
  {
   "cell_type": "code",
   "execution_count": null,
   "metadata": {},
   "outputs": [],
   "source": []
  }
 ],
 "metadata": {
  "kernelspec": {
   "display_name": "Python 3",
   "language": "python",
   "name": "python3"
  },
  "language_info": {
   "codemirror_mode": {
    "name": "ipython",
    "version": 3
   },
   "file_extension": ".py",
   "mimetype": "text/x-python",
   "name": "python",
   "nbconvert_exporter": "python",
   "pygments_lexer": "ipython3",
   "version": "3.8.0"
  }
 },
 "nbformat": 4,
 "nbformat_minor": 2
}
